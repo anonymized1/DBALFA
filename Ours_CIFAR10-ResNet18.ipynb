{
 "cells": [
  {
   "cell_type": "code",
   "execution_count": 3,
   "id": "9f5faa18",
   "metadata": {},
   "outputs": [],
   "source": [
    "# Import packages \n",
    "\n",
    "import torch\n",
    "import torch.nn as nn\n",
    "import matplotlib.pyplot as plt\n",
    "import torchvision.transforms as transforms\n",
    "import torchvision\n",
    "from torchvision.transforms import Compose, ToTensor, RandomHorizontalFlip, ToPILImage, Resize, Normalize\n",
    "from torchvision.datasets import DatasetFolder\n",
    "from torch.utils.data import random_split\n",
    "import core\n",
    "import numpy as np\n",
    "import copy\n",
    "import cv2\n",
    "from sklearn.metrics.pairwise import cosine_similarity\n",
    "import my_models\n",
    "import random\n",
    "import time\n",
    "from utils import*"
   ]
  },
  {
   "cell_type": "code",
   "execution_count": 4,
   "id": "8ac8f30e",
   "metadata": {},
   "outputs": [
    {
     "data": {
      "text/plain": [
       "<All keys matched successfully>"
      ]
     },
     "execution_count": 4,
     "metadata": {},
     "output_type": "execute_result"
    }
   ],
   "source": [
    "# Loaod a checkpoint\n",
    "model = my_models.ResNet(18)\n",
    "chk = torch.load('checkpoints/best_ckpt_IAD.pth')\n",
    "model.load_state_dict(chk)"
   ]
  },
  {
   "cell_type": "code",
   "execution_count": 5,
   "id": "73c9d7aa",
   "metadata": {},
   "outputs": [
    {
     "name": "stdout",
     "output_type": "stream",
     "text": [
      "Files already downloaded and verified\n",
      "Files already downloaded and verified\n"
     ]
    }
   ],
   "source": [
    "# Load benign and poisoned data\n",
    "\n",
    "datasets_root_dir = './data'\n",
    "\n",
    "dataset = torchvision.datasets.CIFAR10\n",
    "\n",
    "transform_train = Compose([\n",
    "    Resize((32, 32)),\n",
    "    RandomHorizontalFlip(),\n",
    "    ToTensor(),\n",
    "    Normalize((0.485, 0.456, 0.406),\n",
    "                        (0.229, 0.224, 0.225))\n",
    "])\n",
    "transform_test = Compose([\n",
    "    Resize((32, 32)),\n",
    "    ToTensor(),\n",
    "    Normalize((0.485, 0.456, 0.406),\n",
    "                        (0.229, 0.224, 0.225))\n",
    "])\n",
    "\n",
    "trainset = dataset(datasets_root_dir, train=True, transform=transform_train, download=True)\n",
    "testset = dataset(datasets_root_dir, train=False, transform=transform_test, download=True)\n",
    "\n",
    "poisoned_testset = torch.load('./data/poisoned_testsets/poisoned_CIFAR10_IAD.t7')\n",
    "target_class = 1"
   ]
  },
  {
   "cell_type": "code",
   "execution_count": 6,
   "id": "c6ed3977",
   "metadata": {},
   "outputs": [
    {
     "data": {
      "text/plain": [
       "<matplotlib.image.AxesImage at 0x1d045100310>"
      ]
     },
     "execution_count": 6,
     "metadata": {},
     "output_type": "execute_result"
    },
    {
     "data": {
      "image/png": "[encoded data removed]",
      "text/plain": [
       "<Figure size 432x288 with 1 Axes>"
      ]
     },
     "metadata": {
      "needs_background": "light"
     },
     "output_type": "display_data"
    }
   ],
   "source": [
    "# Show an example of benign data\n",
    "\n",
    "inv = transforms.Compose([transforms.Normalize(mean = [0., 0., 0. ],\n",
    "                                                     std = [1/0.229, 1/0.224, 1/0.225]),\n",
    "                                transforms.Normalize(mean = [-0.485, -0.456, -0.406 ],\n",
    "                                                     std = [1., 1., 1. ]),\n",
    "                               ])\n",
    "\n",
    "img_idx = 50\n",
    "clean_image, _ = testset[img_idx]\n",
    "clean_image = inv(clean_image)\n",
    "plt.imshow(clean_image.permute(1, 2, 0).numpy())"
   ]
  },
  {
   "cell_type": "code",
   "execution_count": 7,
   "id": "1ef49874",
   "metadata": {},
   "outputs": [
    {
     "data": {
      "text/plain": [
       "<matplotlib.image.AxesImage at 0x1d0451e6700>"
      ]
     },
     "execution_count": 7,
     "metadata": {},
     "output_type": "execute_result"
    },
    {
     "data": {
      "image/png": "[encoded data removed]",
      "text/plain": [
       "<Figure size 432x288 with 1 Axes>"
      ]
     },
     "metadata": {
      "needs_background": "light"
     },
     "output_type": "display_data"
    }
   ],
   "source": [
    "# Show an example of poisoned data\n",
    "\n",
    "poisoned_image, _ = poisoned_testset[img_idx]\n",
    "poisoned_image = inv(poisoned_image)\n",
    "plt.imshow(poisoned_image.permute(1, 2, 0).numpy())"
   ]
  },
  {
   "cell_type": "code",
   "execution_count": 8,
   "id": "74285d0a",
   "metadata": {},
   "outputs": [],
   "source": [
    "# Sample 10% of the benign test data and extract their intermediate features\n",
    "t = 0\n",
    "current_time = time.time()\n",
    "num_classes = 10\n",
    "p = 0.1\n",
    "n = len(testset)\n",
    "m = int(n * p)\n",
    "sampleset, _ = random_split(testset, [m, n - m])\n",
    "\n",
    "sample_ftrs_dict, sample_labels, sample_preds = \\\n",
    "                    get_features(model, sampleset)\n",
    "\n",
    "t+= time.time() - current_time"
   ]
  },
  {
   "cell_type": "code",
   "execution_count": 14,
   "id": "65670308",
   "metadata": {},
   "outputs": [
    {
     "name": "stdout",
     "output_type": "stream",
     "text": [
      "Number of layers: 10\n",
      "Class:0, Layer of maximum difference:9\n",
      "Class:1, Layer of maximum difference:8\n",
      "Class:2, Layer of maximum difference:9\n",
      "Class:3, Layer of maximum difference:9\n",
      "Class:4, Layer of maximum difference:9\n",
      "Class:5, Layer of maximum difference:9\n",
      "Class:6, Layer of maximum difference:8\n",
      "Class:7, Layer of maximum difference:9\n",
      "Class:8, Layer of maximum difference:9\n",
      "Class:9, Layer of maximum difference:8\n"
     ]
    }
   ],
   "source": [
    "# Identify the layer the layer of interest (LOI) for each class\n",
    "current_time = time.time()\n",
    "L = len(sample_ftrs_dict.keys())\n",
    "print('Number of layers:', L)\n",
    "canditae_layers = []\n",
    "for c in range(num_classes):\n",
    "    sim_sample = None\n",
    "    for l in range(L):\n",
    "        idxs = np.where(sample_preds == c)[0]\n",
    "        data = sample_ftrs_dict[l][idxs]\n",
    "        centroid = data.mean(axis = 0).reshape(1, -1)\n",
    "        cs = cosine_similarity(data, centroid)\n",
    "        if sim_sample is None:\n",
    "            sim_sample = cs\n",
    "        else:\n",
    "            sim_sample = np.hstack((sim_sample, cs))\n",
    "    mean_sim = sim_sample.mean(0)\n",
    "    h = int(L/2)\n",
    "    diff_sim = mean_sim[1:L] - mean_sim[0:L-1]\n",
    "    max_diff_l = h+diff_sim[h:].argmax()+1\n",
    "    print('Class:{}, Layer of maximum difference:{}'.format(c, max_diff_l+1))\n",
    "    # Add the three identified layers for each class\n",
    "    canditae_layers.append(np.arange(max_diff_l - 2, max_diff_l+1))\n",
    "t+= time.time() - current_time"
   ]
  },
  {
   "cell_type": "code",
   "execution_count": 16,
   "id": "c265bf54",
   "metadata": {},
   "outputs": [],
   "source": [
    "# Exatrct the features of benign test set\n",
    "test_ftrs_dict, test_labels, test_preds = \\\n",
    "                    get_features(model, testset)\n",
    "\n",
    "# Extract the features of poisoned test set\n",
    "poisoned_ftrs_dict, poisoned_labels, poisoned_preds = \\\n",
    "                    get_features(model, poisoned_testset)"
   ]
  },
  {
   "cell_type": "code",
   "execution_count": 24,
   "id": "253b8e9c",
   "metadata": {},
   "outputs": [
    {
     "name": "stdout",
     "output_type": "stream",
     "text": [
      "Tau:0.5\n",
      "TPR:100.00, FPR:33.73\n",
      "TPR-STD:0.00, FPR-STD:0.94\n",
      "---------------------------\n",
      "Tau:1\n",
      "TPR:99.99, FPR:19.41\n",
      "TPR-STD:0.01, FPR-STD:0.88\n",
      "---------------------------\n",
      "Tau:1.5\n",
      "TPR:99.87, FPR:9.00\n",
      "TPR-STD:0.04, FPR-STD:0.59\n",
      "---------------------------\n",
      "Tau:2\n",
      "TPR:99.74, FPR:3.42\n",
      "TPR-STD:0.10, FPR-STD:0.51\n",
      "---------------------------\n",
      "Tau:2.5\n",
      "TPR:99.46, FPR:1.22\n",
      "TPR-STD:0.18, FPR-STD:0.32\n",
      "---------------------------\n",
      "Tau:3\n",
      "TPR:95.28, FPR:0.24\n",
      "TPR-STD:1.79, FPR-STD:0.08\n",
      "---------------------------\n",
      "Average runtime:3.00\n"
     ]
    }
   ],
   "source": [
    "''' Approximate the distribution of benign samples in the identified layers for each class, \n",
    "        and filter out potential poisoned samples'''\n",
    "current_time = time.time()\n",
    "\n",
    "# Use different thresholds\n",
    "taus = [0.5, 1, 1.5, 2, 2.5, 3]\n",
    "\n",
    "# Use recommended threshold = 2.5\n",
    "# taus = [2.5]\n",
    "gt, pred = None, None\n",
    "num_exper = 5\n",
    "for tau in taus:\n",
    "    tprs, fprs = [], []\n",
    "    print('Tau:{}'.format(tau))\n",
    "    for i in range(num_exper):\n",
    "        gt, pred = None, None\n",
    "        for c in range(num_classes):\n",
    "#             if c != target_class:continue\n",
    "            idxs = np.where(test_labels == c)[0]\n",
    "            k = len(idxs)\n",
    "        \n",
    "            # Sample 10% from the benign features of the target class\n",
    "            idxs = np.random.choice(idxs, int(k*0.1), replace = False)\n",
    "            idxs_samples = idxs\n",
    "\n",
    "            sim_sample = None\n",
    "            sim_test = None\n",
    "            sim_poisoned = None\n",
    "            \n",
    "            # Select samples classified into the potential target class by the attacked model\n",
    "            idxs_test = np.where(test_preds == c)[0]\n",
    "            idxs_poisoned = np.where((poisoned_preds == c) & (test_labels != c))[0]\n",
    "\n",
    "            # Approximate the summed cosine similarities (sample-wise) for each class.\n",
    "            for l in canditae_layers[c]:\n",
    "                sample_data = test_ftrs_dict[l][idxs_samples]\n",
    "                test_data = test_ftrs_dict[l][idxs_test]\n",
    "                poisoned_data = poisoned_ftrs_dict[l][idxs_poisoned]\n",
    "                layer_centroid = np.mean(sample_data, axis = 0).reshape(1, -1)\n",
    "                cs_sample = cosine_similarity(sample_data, layer_centroid)#*diff_sim[l]\n",
    "                cs_test = cosine_similarity(test_data, layer_centroid)#*diff_sim[l]\n",
    "                f = 0\n",
    "                try:\n",
    "                    cs_poisoned = cosine_similarity(poisoned_data, layer_centroid)#*diff_sim[l]\n",
    "                except:\n",
    "                    cs_poisoned = 0\n",
    "                    f = 1\n",
    "\n",
    "                if sim_sample is None:\n",
    "                    sim_sample = cs_sample\n",
    "                    sim_test = cs_test\n",
    "                    sim_poisoned = cs_poisoned\n",
    "                else:\n",
    "                    sim_sample+= cs_sample\n",
    "                    sim_test+= cs_test\n",
    "                    sim_poisoned+= cs_poisoned\n",
    "            \n",
    "            # Identity potential poisoned samples\n",
    "            if gt is None:\n",
    "                gt = np.array([0]*len(test_data)).reshape(-1, 1) \n",
    "            else:\n",
    "                gt= np.concatenate((gt, np.array([0]*len(test_data)).reshape(-1, 1)))\n",
    "            u, s = sim_sample.mean(),  sim_sample.std()\n",
    "            threshold = u - tau*s\n",
    "            pred_test = (sim_test<threshold) + 0\n",
    "            if pred is None:\n",
    "                pred = pred_test\n",
    "            else:\n",
    "                pred= np.concatenate((pred, pred_test))\n",
    "\n",
    "            if c == target_class:\n",
    "                gt= np.concatenate((gt, np.array([1]*len(poisoned_data)).reshape(-1, 1) ))\n",
    "                pred_poisoned = (sim_poisoned<threshold) + 0\n",
    "                pred= np.concatenate((pred, pred_poisoned))\n",
    "\n",
    "        tp = ((gt + pred) == 2).sum()\n",
    "        tn = ((gt + pred) == 0).sum()\n",
    "        fp = ((pred - gt) == 1).sum()\n",
    "        fn = ((gt - pred) == 1).sum()\n",
    "        tpr = tp/(tp + fn)*100\n",
    "        fpr = fp/(fp + tn)*100\n",
    "        tprs.append(tpr)\n",
    "        fprs.append(fpr)     \n",
    "    \n",
    "    print('TPR:{:0.2f}, FPR:{:0.2f}'.format(np.mean(tprs), np.mean(fprs)))   \n",
    "    print('TPR-STD:{:0.2f}, FPR-STD:{:0.2f}'.format(np.std(tprs), np.std(fprs)))\n",
    "    print('---------------------------')\n",
    "print('Average runtime:{:0.2f}'.format((time.time() - current_time)/(num_exper*len(taus))))"
   ]
  },
  {
   "cell_type": "code",
   "execution_count": null,
   "id": "dead964e",
   "metadata": {},
   "outputs": [],
   "source": []
  }
 ],
 "metadata": {
  "kernelspec": {
   "display_name": "Python 3 (ipykernel)",
   "language": "python",
   "name": "python3"
  },
  "language_info": {
   "codemirror_mode": {
    "name": "ipython",
    "version": 3
   },
   "file_extension": ".py",
   "mimetype": "text/x-python",
   "name": "python",
   "nbconvert_exporter": "python",
   "pygments_lexer": "ipython3",
   "version": "3.8.13"
  }
 },
 "nbformat": 4,
 "nbformat_minor": 5
}
